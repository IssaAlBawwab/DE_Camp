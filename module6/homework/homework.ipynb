{
 "cells": [
  {
   "cell_type": "code",
   "execution_count": 7,
   "metadata": {},
   "outputs": [
    {
     "data": {
      "text/plain": [
       "True"
      ]
     },
     "execution_count": 7,
     "metadata": {},
     "output_type": "execute_result"
    }
   ],
   "source": [
    "import json\n",
    "\n",
    "from kafka import KafkaProducer\n",
    "\n",
    "def json_serializer(data):\n",
    "    return json.dumps(data).encode('utf-8')\n",
    "\n",
    "server = 'localhost:9092'\n",
    "\n",
    "producer = KafkaProducer(\n",
    "    bootstrap_servers=[server],\n",
    "    value_serializer=json_serializer\n",
    ")\n",
    "\n",
    "producer.bootstrap_connected()"
   ]
  },
  {
   "cell_type": "code",
   "execution_count": 8,
   "metadata": {},
   "outputs": [
    {
     "name": "stdout",
     "output_type": "stream",
     "text": [
      "476386\n"
     ]
    }
   ],
   "source": [
    "\n",
    "import csv\n",
    "csv_file = 'green_tripdata_2019-10.csv' \n",
    "selected_keys = ['lpep_pickup_datetime','lpep_dropoff_datetime','PULocationID','DOLocationID','passenger_count','trip_distance','tip_amount']\n",
    "with open(csv_file, 'r', newline='', encoding='utf-8') as file:\n",
    "    reader = csv.DictReader(file)\n",
    "    count =0\n",
    "    for row in reader:\n",
    "        # Each row will be a dictionary keyed by the CSV headers\n",
    "        # Send data to Kafka topic \"green-data\"\n",
    "        filtered_row={key : row[key] for key in selected_keys}\n",
    "        if filtered_row['passenger_count'] == \"\":\n",
    "            filtered_row['passenger_count'] = 0\n",
    "        producer.send('green-trips', value=filtered_row)\n",
    "        count += 1\n",
    "        \n",
    "\n",
    "print(count)\n",
    "# Make sure any remaining messages are delivered\n",
    "producer.flush()\n",
    "producer.close()"
   ]
  }
 ],
 "metadata": {
  "kernelspec": {
   "display_name": "decamp",
   "language": "python",
   "name": "python3"
  },
  "language_info": {
   "codemirror_mode": {
    "name": "ipython",
    "version": 3
   },
   "file_extension": ".py",
   "mimetype": "text/x-python",
   "name": "python",
   "nbconvert_exporter": "python",
   "pygments_lexer": "ipython3",
   "version": "3.10.16"
  }
 },
 "nbformat": 4,
 "nbformat_minor": 2
}
